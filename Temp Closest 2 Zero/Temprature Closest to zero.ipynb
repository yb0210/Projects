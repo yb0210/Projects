{
 "cells": [
  {
   "cell_type": "code",
   "execution_count": 2,
   "metadata": {},
   "outputs": [],
   "source": [
    "%config IPCompleter.greedy = True"
   ]
  },
  {
   "cell_type": "code",
   "execution_count": 1,
   "metadata": {},
   "outputs": [],
   "source": [
    "import pandas as pd\n",
    "import numpy as np"
   ]
  },
  {
   "cell_type": "code",
   "execution_count": 66,
   "metadata": {},
   "outputs": [
    {
     "name": "stdout",
     "output_type": "stream",
     "text": [
      "No. of Entries10\n",
      "Enter the diffrent tempratures(with space sepration)-1 5 4 2 3 5 -5 23 5 4\n"
     ]
    }
   ],
   "source": [
    "#Data ingestion\n",
    "n_temp = int(input('No. of Entries: '))\n",
    "raw_temp = input('Enter the diffrent tempratures(with space sepration): ')\n",
    "temp = raw_temp.split(' ') #Parsing data into list\n",
    "temp = [int(x) for x in temp]"
   ]
  },
  {
   "cell_type": "code",
   "execution_count": 68,
   "metadata": {},
   "outputs": [
    {
     "name": "stdout",
     "output_type": "stream",
     "text": [
      "The temprature entered at 1 position is closest to zero i.e -1\n"
     ]
    }
   ],
   "source": [
    "z = []\n",
    "for x in range(len(temp)):\n",
    "    ans = 0-temp[x] \n",
    "    z.append(abs(ans)) # finding the closest range of data\n",
    "\n",
    "rel = z.index(min(z))\n",
    "for x in range(len(temp)):\n",
    "    for y in range(len(temp)):\n",
    "        if (z[x] == z[y] and min(z) == z[x]):\n",
    "            rel = temp.index(max(temp[x],temp[y]))\n",
    "            temp_ans = max(temp[x],temp[y])\n",
    "        else:\n",
    "            temp_ans = temp[rel]\n",
    "\n",
    "print('The temprature entered at',rel+1,'position is closest to zero i.e',temp_ans)\n"
   ]
  }
 ],
 "metadata": {
  "kernelspec": {
   "display_name": "Python 3",
   "language": "python",
   "name": "python3"
  },
  "language_info": {
   "codemirror_mode": {
    "name": "ipython",
    "version": 3
   },
   "file_extension": ".py",
   "mimetype": "text/x-python",
   "name": "python",
   "nbconvert_exporter": "python",
   "pygments_lexer": "ipython3",
   "version": "3.6.5"
  }
 },
 "nbformat": 4,
 "nbformat_minor": 2
}
